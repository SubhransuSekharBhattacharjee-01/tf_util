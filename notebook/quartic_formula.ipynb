{
 "cells": [
  {
   "cell_type": "code",
   "execution_count": 1,
   "metadata": {},
   "outputs": [],
   "source": [
    "%matplotlib inline\n",
    "import matplotlib.pyplot as plt\n",
    "import numpy as np\n",
    "\n",
    "def quartic_delta(a, b, c, d, e):\n",
    "    delta = 256.0*(a**3)*(e**3) \\\n",
    "            - 192.0*(a**2)*b*d*(e**2) \\\n",
    "            - 128.0*(a**2)*(c**2)*(e**2) \\\n",
    "            + 144.0*(a**2)*c*(d**2)*e \\\n",
    "            -  27.0*(a**2)*(d**4) \\\n",
    "            + 144.0*a*(b**2)*c*(e**2) \\\n",
    "            -   6.0*a*(b**2)*(d**2)*e \\\n",
    "            -  80.0*a*b*(c**2)*d*e \\\n",
    "            +  18.0*a*b*c*(d**3) \\\n",
    "            +  16.0*a*(c**4)*e \\\n",
    "            -   4.0*a*(c**3)*(d**2) \\\n",
    "            -  27.0*(b**4)*(e**2) \\\n",
    "            +  18.0*(b**3)*c*d*e \\\n",
    "            -   4.0*(b**3)*(d**3) \\\n",
    "            -   4.0*(b**2)*(c**3)*e \\\n",
    "            +   1.0*(b**2)*(c**2)*(d**2)\n",
    "    return delta\n",
    "\n",
    "def quartic_delta0(a, b, c, d, e):\n",
    "    delta0 = c**2 -3.0*b*d + 12.0*a*e\n",
    "    return delta0\n",
    "\n",
    "def quartic_delta1(a, b, c, d, e):\n",
    "    delta1 = 2.0*(c**3) - 9.0*b*c*d + 27.0*(b**2)*e + 27.0*a*(d**2) - 72.0*a*c*e\n",
    "    return delta1\n",
    "\n",
    "def quartic_Q(delta, delta1):\n",
    "    Q = ((delta1 + np.sqrt(-27.0*delta))/2.0)**(1.0 / 3.0)\n",
    "    return Q\n",
    "\n",
    "def quartic_S(a, p, Q, delta0):\n",
    "    S = 0.5*np.sqrt(-(2.0/3.0)*p + (1.0 / (3.0*a))*(Q + (delta0 / Q)))\n",
    "    return S\n",
    "\n",
    "def quartic_p(a, b, c, d, e):\n",
    "    p = (8.0*a*c - 3.0*(b**2)) / (8.0*(a**2))\n",
    "    return p\n",
    "\n",
    "def quartic_q(a, b, c, d, e):\n",
    "    q = ((b**3) - 4*a*b*c + 8.0*(a**2)*d) / (8.0*(a**3))\n",
    "    return q\n"
   ]
  },
  {
   "cell_type": "code",
   "execution_count": 37,
   "metadata": {},
   "outputs": [],
   "source": [
    "def quartic_roots(a, b, c, d, e):\n",
    "    delta = np.complex128(quartic_delta(a, b, c, d, e))\n",
    "    delta0 = np.complex128(quartic_delta0(a, b, c, d, e))\n",
    "    delta1 = np.complex128(quartic_delta1(a, b, c, d, e))\n",
    "    \n",
    "    print('delta', delta, 'delta0', delta0, 'delta1', delta1)\n",
    "    \n",
    "    p = np.complex128(quartic_p(a, b, c, d, e))\n",
    "    q = np.complex128(quartic_q(a, b, c, d, e))\n",
    "    \n",
    "    print('p', p, 'q', q)\n",
    "    \n",
    "    Q = np.complex128(quartic_Q(delta, delta1))\n",
    "    S = np.complex128(quartic_S(a, p, Q, delta0))\n",
    "    \n",
    "    print('Q', Q, 'S', S)\n",
    "    \n",
    "    x1 = -(b / (4.0*a)) - S + 0.5*np.sqrt(-4*(S**2) - 2*p + (q / S))\n",
    "    x2 = -(b / (4.0*a)) - S - 0.5*np.sqrt(-4*(S**2) - 2*p + (q / S))\n",
    "    \n",
    "    x3 = -(b / (4.0*a)) + S + 0.5*np.sqrt(-4*(S**2) - 2*p - (q / S))\n",
    "    x4 = -(b / (4.0*a)) + S - 0.5*np.sqrt(-4*(S**2) - 2*p - (q / S))\n",
    "    return x1, x2, x3, x4\n",
    "\n",
    "\n",
    "    \n",
    "    \n",
    "    \n",
    "    "
   ]
  },
  {
   "cell_type": "code",
   "execution_count": 42,
   "metadata": {},
   "outputs": [
    {
     "name": "stdout",
     "output_type": "stream",
     "text": [
      "1.0 -99.0 -110.0 1008.0 -800.0\n"
     ]
    }
   ],
   "source": [
    "z = [-4.0, 1.0, 2, 100.0]\n",
    "coeffs = np.poly(z)\n",
    "a = coeffs[0]\n",
    "b = coeffs[1]\n",
    "c = coeffs[2]\n",
    "d = coeffs[3]\n",
    "e = coeffs[4]\n",
    "print(a, b, c, d, e)"
   ]
  },
  {
   "cell_type": "code",
   "execution_count": 44,
   "metadata": {},
   "outputs": [
    {
     "name": "stdout",
     "output_type": "stream",
     "text": [
      "delta (916287429657600+0j) delta0 (301876+0j) delta1 (-292059952+0j)\n",
      "p (-3785.375+0j) q (-125724.375+0j)\n",
      "Q (348.99999999999955+424.35244785437436j) S (26.249999999999996-1.7143253307227816e-15j)\n",
      "roots:\n",
      "1 1.0000000000000488\n",
      "2 -4.000000000000042\n",
      "3 100.0\n",
      "4 2.0\n"
     ]
    }
   ],
   "source": [
    "r = quartic_roots(a, b, c, d, e)\n",
    "r = np.real(r)\n",
    "print('roots:')\n",
    "for i in range(4):\n",
    "    print(i+1, r[i])\n",
    "    "
   ]
  },
  {
   "cell_type": "code",
   "execution_count": null,
   "metadata": {},
   "outputs": [],
   "source": [
    "\n",
    "\n"
   ]
  },
  {
   "cell_type": "code",
   "execution_count": null,
   "metadata": {},
   "outputs": [],
   "source": []
  }
 ],
 "metadata": {
  "kernelspec": {
   "display_name": "Python (dsn)",
   "language": "python",
   "name": "dsn"
  },
  "language_info": {
   "codemirror_mode": {
    "name": "ipython",
    "version": 3
   },
   "file_extension": ".py",
   "mimetype": "text/x-python",
   "name": "python",
   "nbconvert_exporter": "python",
   "pygments_lexer": "ipython3",
   "version": "3.6.8"
  }
 },
 "nbformat": 4,
 "nbformat_minor": 2
}
